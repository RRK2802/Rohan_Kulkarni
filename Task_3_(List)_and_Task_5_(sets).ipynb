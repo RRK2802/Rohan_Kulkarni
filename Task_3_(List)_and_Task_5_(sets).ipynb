{
 "cells": [
  {
   "cell_type": "markdown",
   "metadata": {},
   "source": [
    "## Task 3\n",
    "### remove method"
   ]
  },
  {
   "cell_type": "code",
   "execution_count": 1,
   "metadata": {},
   "outputs": [
    {
     "name": "stdout",
     "output_type": "stream",
     "text": [
      "['tiger', 'cat', 'dog', 'bat', 'ball'] \n",
      "\n",
      "<class 'list'> \n",
      "\n",
      "['tiger', 'dog', 'bat', 'ball']\n"
     ]
    }
   ],
   "source": [
    "list1 = ['tiger', 'cat', 'dog', 'bat', 'ball'] # declaring a list\n",
    "\n",
    "print(list1, '\\n')\n",
    "\n",
    "print(type(list1),'\\n') # printing the type\n",
    "\n",
    "list1.remove('cat') # removes the element specified in the parenthesis\n",
    "\n",
    "print(list1) # list after modification"
   ]
  },
  {
   "cell_type": "markdown",
   "metadata": {},
   "source": [
    "### count method"
   ]
  },
  {
   "cell_type": "code",
   "execution_count": 2,
   "metadata": {},
   "outputs": [
    {
     "name": "stdout",
     "output_type": "stream",
     "text": [
      "[2, 3, 4, 1, 3, 4, 2, 1, 2, 3, 4] \n",
      "\n",
      "<class 'list'> \n",
      "\n",
      "3\n"
     ]
    }
   ],
   "source": [
    "list1 = [2,3,4,1,3,4,2,1,2,3,4] # declaring a list\n",
    "\n",
    "print(list1, '\\n')\n",
    "\n",
    "print(type(list1),'\\n') # printing the type\n",
    "\n",
    "count = list1.count(2) # counts the number of times the element occurs in list\n",
    "\n",
    "print(count) # printing the output"
   ]
  },
  {
   "cell_type": "markdown",
   "metadata": {},
   "source": [
    "### clear method"
   ]
  },
  {
   "cell_type": "code",
   "execution_count": 3,
   "metadata": {},
   "outputs": [
    {
     "name": "stdout",
     "output_type": "stream",
     "text": [
      "[2, 3, 4, 1, 3, 4, 2, 1, 2, 3, 4] \n",
      "\n",
      "<class 'list'> \n",
      "\n",
      "After clearing the list is\n",
      "[]\n"
     ]
    }
   ],
   "source": [
    "list1 = [2,3,4,1,3,4,2,1,2,3,4] # declaring a list\n",
    "\n",
    "print(list1, '\\n')\n",
    "\n",
    "print(type(list1),'\\n') # printing the type\n",
    "\n",
    "list1.clear() # clears the list contents\n",
    "\n",
    "print('After clearing the list is')\n",
    "\n",
    "print(list1) # printing the output"
   ]
  },
  {
   "cell_type": "markdown",
   "metadata": {},
   "source": [
    "### sort method"
   ]
  },
  {
   "cell_type": "code",
   "execution_count": 4,
   "metadata": {},
   "outputs": [
    {
     "name": "stdout",
     "output_type": "stream",
     "text": [
      "[5, 3, 4, 1, 2] \n",
      "\n",
      "<class 'list'> \n",
      "\n",
      "After sorting the list is\n",
      "\n",
      "[1, 2, 3, 4, 5]\n"
     ]
    }
   ],
   "source": [
    "list1 = [5,3,4,1,2] # declaring a list\n",
    "\n",
    "print(list1, '\\n')\n",
    "\n",
    "print(type(list1),'\\n') # printing the type\n",
    "\n",
    "list1.sort() # sorts the list contents\n",
    "\n",
    "print('After sorting the list is\\n')\n",
    "\n",
    "print(list1) # printing the output"
   ]
  },
  {
   "cell_type": "markdown",
   "metadata": {},
   "source": [
    "### reverse method"
   ]
  },
  {
   "cell_type": "code",
   "execution_count": 5,
   "metadata": {},
   "outputs": [
    {
     "name": "stdout",
     "output_type": "stream",
     "text": [
      "[5, 3, 4, 1, 2] \n",
      "\n",
      "<class 'list'> \n",
      "\n",
      "After reversing the list is\n",
      "\n",
      "[2, 1, 4, 3, 5]\n"
     ]
    }
   ],
   "source": [
    "list1 = [5,3,4,1,2] # declaring a list\n",
    "\n",
    "print(list1, '\\n')\n",
    "\n",
    "print(type(list1),'\\n') # printing the type\n",
    "\n",
    "list1.reverse() # reverses the order of elements\n",
    "\n",
    "print('After reversing the list is\\n')\n",
    "\n",
    "print(list1) # printing the output"
   ]
  },
  {
   "cell_type": "markdown",
   "metadata": {},
   "source": [
    "## Task 5\n",
    "### difference method"
   ]
  },
  {
   "cell_type": "code",
   "execution_count": 6,
   "metadata": {},
   "outputs": [
    {
     "name": "stdout",
     "output_type": "stream",
     "text": [
      "Alpha1 - Alpha2 is\n",
      " {'E', 'B', 'A'} \n",
      "\n",
      "Alpha2 - Alpha1 is\n",
      " {'G', 'L', 'H'} \n",
      "\n"
     ]
    }
   ],
   "source": [
    "Alpha1 = {'A', 'B', 'C', 'D', 'E'} # set1\n",
    "Alpha2 = {'D', 'C', 'G', 'H', 'L'} # set2\n",
    "\n",
    "Ans1 = Alpha1 - Alpha2  # A - B is equal to the elements present in A but not in B\n",
    "Ans2 = Alpha2 - Alpha1  # B - A is equal to the elements present in B but not in A\n",
    "\n",
    "print(\"Alpha1 - Alpha2 is\\n\",Ans1,\"\\n\")\n",
    "\n",
    "print(\"Alpha2 - Alpha1 is\\n\",Ans2,\"\\n\")\n"
   ]
  },
  {
   "cell_type": "markdown",
   "metadata": {},
   "source": [
    "### symmetric_difference method"
   ]
  },
  {
   "cell_type": "code",
   "execution_count": 7,
   "metadata": {},
   "outputs": [
    {
     "name": "stdout",
     "output_type": "stream",
     "text": [
      "The symmetric difference of the two sets is\n",
      "\n",
      "{'G', 'A', 'E', 'L', 'B', 'H'}\n"
     ]
    }
   ],
   "source": [
    "Alpha1 = {'A', 'B', 'C', 'D', 'E'} #set 1\n",
    "Alpha2 = {'D', 'C', 'G', 'H', 'L'} #set 2 \n",
    "\n",
    "print('The symmetric difference of the two sets is\\n')\n",
    "\n",
    "print(Alpha1.symmetric_difference(Alpha2)) "
   ]
  },
  {
   "cell_type": "code",
   "execution_count": null,
   "metadata": {},
   "outputs": [],
   "source": []
  }
 ],
 "metadata": {
  "kernelspec": {
   "display_name": "Python 3",
   "language": "python",
   "name": "python3"
  },
  "language_info": {
   "codemirror_mode": {
    "name": "ipython",
    "version": 3
   },
   "file_extension": ".py",
   "mimetype": "text/x-python",
   "name": "python",
   "nbconvert_exporter": "python",
   "pygments_lexer": "ipython3",
   "version": "3.6.9"
  }
 },
 "nbformat": 4,
 "nbformat_minor": 2
}
