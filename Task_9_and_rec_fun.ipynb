{
 "cells": [
  {
   "cell_type": "code",
   "execution_count": 1,
   "metadata": {},
   "outputs": [
    {
     "name": "stdout",
     "output_type": "stream",
     "text": [
      "Enter number 1:  4\n",
      "Enter number 2:  2\n",
      "Enter the operation to be performed : \n",
      "1)Addition\n",
      "2)Subtraction\n",
      "3)Multiplication\n",
      "4)Division\n",
      " 1\n",
      "The addition of two numbers is :\n",
      "6\n"
     ]
    }
   ],
   "source": [
    "#asking two numbers from the user and the operatins to be performed\n",
    "\n",
    "num1 = int(input('Enter number 1:  '))\n",
    "\n",
    "num2 = int(input('Enter number 2:  '))\n",
    "\n",
    "oper = input('Enter the operation to be performed : \\n1)Addition\\n2)Subtraction\\n3)Multiplication\\n4)Division\\n ')\n",
    "\n",
    "def add():    \n",
    "    num3 = num1+num2\n",
    "    print('The addition of two numbers is :')\n",
    "    print(num3)\n",
    "    \n",
    "def sub():\n",
    "    num3 = num1-num2\n",
    "    print('The subtraction of two numbers is :')\n",
    "    print(num3)\n",
    "    \n",
    "def mult():\n",
    "    num3 = num1*num2\n",
    "    print('The multiplication of two numbers is :')\n",
    "    print(num3)\n",
    "\n",
    "def div():\n",
    "    num3 = num1/num2\n",
    "    print('The division of two numbers is :')\n",
    "    print(num3)\n",
    "\n",
    "\n",
    "#performing the operation\n",
    "\n",
    "if(oper == '1'):\n",
    "    add()\n",
    "    \n",
    "elif(oper == '2'):\n",
    "    sub()\n",
    "    \n",
    "elif(oper == '3'):\n",
    "    mult()\n",
    "    \n",
    "elif(oper == '4' and num2!=0):\n",
    "    div()\n",
    "    \n",
    "else:\n",
    "    print('Invalid input')"
   ]
  },
  {
   "cell_type": "markdown",
   "metadata": {},
   "source": [
    "### Recursive function"
   ]
  },
  {
   "cell_type": "code",
   "execution_count": 2,
   "metadata": {},
   "outputs": [
    {
     "name": "stdout",
     "output_type": "stream",
     "text": [
      "1 2 3 4 5 6 7 8 9 10 "
     ]
    }
   ],
   "source": [
    "def my_fun(n): \n",
    "    if n > 0: \n",
    "        my_fun(n - 1) \n",
    "        print(n, end = ' ') \n",
    "# Driver code  \n",
    "my_fun(10) \n",
    "  "
   ]
  }
 ],
 "metadata": {
  "kernelspec": {
   "display_name": "Python 3",
   "language": "python",
   "name": "python3"
  },
  "language_info": {
   "codemirror_mode": {
    "name": "ipython",
    "version": 3
   },
   "file_extension": ".py",
   "mimetype": "text/x-python",
   "name": "python",
   "nbconvert_exporter": "python",
   "pygments_lexer": "ipython3",
   "version": "3.6.9"
  }
 },
 "nbformat": 4,
 "nbformat_minor": 2
}
