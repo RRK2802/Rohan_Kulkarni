{
 "cells": [
  {
   "cell_type": "markdown",
   "metadata": {},
   "source": [
    "### TASK 7: Operation on numbers"
   ]
  },
  {
   "cell_type": "code",
   "execution_count": 1,
   "metadata": {},
   "outputs": [
    {
     "name": "stdout",
     "output_type": "stream",
     "text": [
      "Enter number 1:  2\n",
      "Enter number 2:  5\n",
      "Enter the operation to be performed : \n",
      "1)Addition\n",
      "2)Subtraction\n",
      "3)Multiplication\n",
      "4)Division\n",
      " 1\n",
      "The addition of two numbers is :\n",
      "7\n"
     ]
    }
   ],
   "source": [
    "#asking two numbers from the user and the operatins to be performed\n",
    "\n",
    "num1 = int(input('Enter number 1:  '))\n",
    "\n",
    "num2 = int(input('Enter number 2:  '))\n",
    "\n",
    "oper = input('Enter the operation to be performed : \\n1)Addition\\n2)Subtraction\\n3)Multiplication\\n4)Division\\n ')\n",
    "\n",
    "#performing the operation\n",
    "\n",
    "if(oper == '1'):\n",
    "    num3 = num1+num2\n",
    "    print('The addition of two numbers is :')\n",
    "    print(num3)\n",
    "    \n",
    "elif(oper == '2'):\n",
    "    num3 = num1-num2\n",
    "    print('The subtraction of two numbers is :')\n",
    "    print(num3)\n",
    "    \n",
    "elif(oper == '3'):\n",
    "    num3 = num1*num2\n",
    "    print('The multiplication of two numbers is :')\n",
    "    print(num3)\n",
    "    \n",
    "elif(oper == '4' and num1!=0):\n",
    "    num3 = num1/num2\n",
    "    print('The division of two numbers is :')\n",
    "    print(num3)\n",
    "\n",
    "else:\n",
    "    print('Invalid input')"
   ]
  },
  {
   "cell_type": "markdown",
   "metadata": {},
   "source": [
    "### TASK 8: While and for loop"
   ]
  },
  {
   "cell_type": "code",
   "execution_count": 2,
   "metadata": {},
   "outputs": [
    {
     "name": "stdout",
     "output_type": "stream",
     "text": [
      "10\n",
      "9\n",
      "8\n",
      "7\n",
      "6\n",
      "5\n",
      "4\n",
      "3\n",
      "2\n",
      "1\n"
     ]
    }
   ],
   "source": [
    "#printing numbers from 10 to 1 using while loop\n",
    "\n",
    "count = 10\n",
    "while(count!=0):\n",
    "    print(count)\n",
    "    count = count - 1"
   ]
  },
  {
   "cell_type": "code",
   "execution_count": 6,
   "metadata": {},
   "outputs": [
    {
     "name": "stdout",
     "output_type": "stream",
     "text": [
      "1\n",
      "2\n",
      "3\n",
      "4\n",
      "5\n"
     ]
    }
   ],
   "source": [
    "#for loop on tuple\n",
    "\n",
    "tup1 = (1,2,3,4,5)\n",
    "\n",
    "for i in tup1:\n",
    "    print(i)"
   ]
  },
  {
   "cell_type": "code",
   "execution_count": 24,
   "metadata": {},
   "outputs": [
    {
     "name": "stdout",
     "output_type": "stream",
     "text": [
      "{1, 2, 3, 4}\n"
     ]
    }
   ],
   "source": [
    "#for loop on sets\n",
    "set1 = {1,2,3,4,1,2,1,1,4,3}\n",
    "\n",
    "print(set1)"
   ]
  },
  {
   "cell_type": "code",
   "execution_count": 25,
   "metadata": {},
   "outputs": [
    {
     "name": "stdout",
     "output_type": "stream",
     "text": [
      "{2, 3, 4}\n"
     ]
    }
   ],
   "source": [
    "for i in set1:\n",
    "    if(i == 1):\n",
    "        set1.remove(i)\n",
    "        break\n",
    "print(set1)"
   ]
  },
  {
   "cell_type": "code",
   "execution_count": 29,
   "metadata": {},
   "outputs": [
    {
     "name": "stdout",
     "output_type": "stream",
     "text": [
      "{'brand': 'Bajaj', 'model': 'Pulsar', 'year': 2015, 'cost': 85000}\n",
      "\n",
      "\n",
      "brand\n",
      "model\n",
      "year\n",
      "cost\n"
     ]
    }
   ],
   "source": [
    "#for loop on Dictionaries\n",
    "\n",
    "dict1 = {\n",
    "  \"brand\": \"Bajaj\",\n",
    "  \"model\": \"Pulsar\",\n",
    "  \"year\": 2015,\n",
    "  \"cost\": 85000\n",
    "}\n",
    "\n",
    "print(dict1)\n",
    "print('\\n')\n",
    "\n",
    "for key, value in dict1.items():\n",
    "    print(key)\n"
   ]
  },
  {
   "cell_type": "code",
   "execution_count": null,
   "metadata": {},
   "outputs": [],
   "source": []
  }
 ],
 "metadata": {
  "kernelspec": {
   "display_name": "Python 3",
   "language": "python",
   "name": "python3"
  },
  "language_info": {
   "codemirror_mode": {
    "name": "ipython",
    "version": 3
   },
   "file_extension": ".py",
   "mimetype": "text/x-python",
   "name": "python",
   "nbconvert_exporter": "python",
   "pygments_lexer": "ipython3",
   "version": "3.6.9"
  }
 },
 "nbformat": 4,
 "nbformat_minor": 2
}
