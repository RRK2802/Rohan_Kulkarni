{
 "cells": [
  {
   "cell_type": "markdown",
   "metadata": {},
   "source": [
    "## TASK 2: To find a substring in a string"
   ]
  },
  {
   "cell_type": "code",
   "execution_count": 1,
   "metadata": {},
   "outputs": [
    {
     "data": {
      "text/plain": [
       "'C:\\\\Users\\\\Dell\\\\Netzwerk_Tasks'"
      ]
     },
     "execution_count": 1,
     "metadata": {},
     "output_type": "execute_result"
    }
   ],
   "source": [
    "pwd"
   ]
  },
  {
   "cell_type": "code",
   "execution_count": 2,
   "metadata": {},
   "outputs": [
    {
     "name": "stdout",
     "output_type": "stream",
     "text": [
      "given string contains 'to'\n"
     ]
    }
   ],
   "source": [
    "#By using the find method\n",
    "\n",
    "str1 = \"welcome to python\" # Declaring the string\n",
    "\n",
    "str2 = \"to\"  #declaring the substring\n",
    "\n",
    "if(str1.find(str2) != -1): #condition to check the substring\n",
    "    print(\"given string contains 'to'\")\n",
    "else:\n",
    "    print('no')"
   ]
  },
  {
   "cell_type": "code",
   "execution_count": 3,
   "metadata": {},
   "outputs": [
    {
     "name": "stdout",
     "output_type": "stream",
     "text": [
      "Given string contains \"to\" \n"
     ]
    }
   ],
   "source": [
    "# By using the in method\n",
    "\n",
    "str1 = \"welcome to python\" # Declaring the string\n",
    "\n",
    "if('to' in str1): #condition to check the substring\n",
    "    print('Given string contains \"to\" ')"
   ]
  },
  {
   "cell_type": "markdown",
   "metadata": {},
   "source": [
    "## Task 4: Add and remove the elements from a tuple"
   ]
  },
  {
   "cell_type": "code",
   "execution_count": 4,
   "metadata": {},
   "outputs": [
    {
     "name": "stdout",
     "output_type": "stream",
     "text": [
      "<class 'tuple'>\n",
      "\n",
      "\n",
      "(1, 2, 3, 4, 5)\n"
     ]
    }
   ],
   "source": [
    "tup1 = (1,2,3,4,5) #declaring a tuple\n",
    "\n",
    "print(type(tup1)) #printing the type\n",
    "print('\\n')\n",
    "print(tup1)  #printing the tuple"
   ]
  },
  {
   "cell_type": "code",
   "execution_count": 5,
   "metadata": {},
   "outputs": [
    {
     "data": {
      "text/plain": [
       "list"
      ]
     },
     "execution_count": 5,
     "metadata": {},
     "output_type": "execute_result"
    }
   ],
   "source": [
    "list1 = list(tup1) #conversion to list\n",
    "\n",
    "type(list1)"
   ]
  },
  {
   "cell_type": "code",
   "execution_count": 6,
   "metadata": {},
   "outputs": [
    {
     "name": "stdout",
     "output_type": "stream",
     "text": [
      "[1, 2, 3, 4, 5]\n",
      "\n",
      "After adding an element\n",
      "\n",
      "(1, 2, 3, 4, 5, 'added_element')\n"
     ]
    }
   ],
   "source": [
    "# Adding an element\n",
    "\n",
    "print(list1) #printing the converted list\n",
    "\n",
    "list1.append(\"added_element\") #adding the element\n",
    "\n",
    "print(\"\\nAfter adding an element\\n\") #modified list\n",
    "\n",
    "tup1 = tuple(list1) #converting to tuple again\n",
    "\n",
    "print(tup1)"
   ]
  },
  {
   "cell_type": "code",
   "execution_count": 7,
   "metadata": {},
   "outputs": [
    {
     "name": "stdout",
     "output_type": "stream",
     "text": [
      "[1, 2, 3, 4, 5, 'added_element']\n",
      "\n",
      "The removed element is\n",
      "added_element\n",
      "\n",
      "\n",
      "The tuple is\n",
      "(1, 2, 3, 4, 5)\n"
     ]
    }
   ],
   "source": [
    "#Removing an element\n",
    "\n",
    "list2 = list(tup1)\n",
    "print(list2)\n",
    "\n",
    "rem = list2.pop(5)\n",
    "\n",
    "print(\"\\nThe removed element is\")\n",
    "print(rem)\n",
    "\n",
    "print(\"\\n\")\n",
    "tup1 = tuple(list2)\n",
    "print(\"The tuple is\")\n",
    "print(tup1)\n"
   ]
  }
 ],
 "metadata": {
  "kernelspec": {
   "display_name": "Python 3",
   "language": "python",
   "name": "python3"
  },
  "language_info": {
   "codemirror_mode": {
    "name": "ipython",
    "version": 3
   },
   "file_extension": ".py",
   "mimetype": "text/x-python",
   "name": "python",
   "nbconvert_exporter": "python",
   "pygments_lexer": "ipython3",
   "version": "3.6.9"
  }
 },
 "nbformat": 4,
 "nbformat_minor": 2
}
