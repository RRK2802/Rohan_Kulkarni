{
 "cells": [
  {
   "cell_type": "markdown",
   "metadata": {},
   "source": [
    "### Reduce method"
   ]
  },
  {
   "cell_type": "code",
   "execution_count": 1,
   "metadata": {},
   "outputs": [],
   "source": [
    "from functools import reduce\n",
    "product = reduce((lambda x, y: x * y), [1, 2, 3, 4])\n"
   ]
  },
  {
   "cell_type": "code",
   "execution_count": 2,
   "metadata": {},
   "outputs": [
    {
     "data": {
      "text/plain": [
       "24"
      ]
     },
     "execution_count": 2,
     "metadata": {},
     "output_type": "execute_result"
    }
   ],
   "source": [
    "product"
   ]
  },
  {
   "cell_type": "markdown",
   "metadata": {},
   "source": [
    "### Zip method"
   ]
  },
  {
   "cell_type": "code",
   "execution_count": 3,
   "metadata": {},
   "outputs": [
    {
     "name": "stdout",
     "output_type": "stream",
     "text": [
      "The zipped result is :\n",
      " {('Glamour', 'Hero', 98), ('Star', 'TVS', 100), ('Shine', 'Honda', 102), ('Pulsar', 'Bajaj', 120)}\n"
     ]
    }
   ],
   "source": [
    "#initializing the lists\n",
    "\n",
    "Bike_name = [ \"Glamour\", \"Shine\", \"Star\", \"Pulsar\" ] \n",
    "Company = [\"Hero\",\"Honda\",\"TVS\",\"Bajaj\"] \n",
    "Top_Speed = [98, 102, 100, 120 ] \n",
    "  \n",
    "# using zip() \n",
    "zipped_val = zip(Bike_name, Company, Top_Speed) \n",
    "  \n",
    "# converting values to print as set \n",
    "zipped_val = set(zipped_val) \n",
    "\n",
    "# printing the sets  \n",
    "print(\"The zipped result is :\\n \",end=\"\") \n",
    "print(zipped_val) "
   ]
  },
  {
   "cell_type": "markdown",
   "metadata": {},
   "source": [
    "### Enumerate method"
   ]
  },
  {
   "cell_type": "code",
   "execution_count": 4,
   "metadata": {},
   "outputs": [
    {
     "name": "stdout",
     "output_type": "stream",
     "text": [
      "<class 'enumerate'> \n",
      "\n",
      "[(0, 'cat'), (1, 'dog'), (2, 'tiger'), (3, 'mouse')]\n",
      "[(100, 'S'), (101, 'p'), (102, 'e'), (103, 'e'), (104, 'd')]\n"
     ]
    }
   ],
   "source": [
    "animals = [\"cat\",\"dog\",\"tiger\",\"mouse\"] \n",
    "string = \"Speed\"\n",
    "  \n",
    "# creating enumerate objects \n",
    "enumerate_1 = enumerate(animals) \n",
    "enumerate_2 = enumerate(string, 100) \n",
    "  \n",
    "print(type(enumerate_1),\"\\n\")\n",
    "\n",
    "# Printing the two enumerate objects\n",
    "print(list(enumerate_1)) \n",
    "\n",
    "print(list(enumerate_2)) "
   ]
  },
  {
   "cell_type": "code",
   "execution_count": null,
   "metadata": {},
   "outputs": [],
   "source": []
  }
 ],
 "metadata": {
  "kernelspec": {
   "display_name": "Python 3",
   "language": "python",
   "name": "python3"
  },
  "language_info": {
   "codemirror_mode": {
    "name": "ipython",
    "version": 3
   },
   "file_extension": ".py",
   "mimetype": "text/x-python",
   "name": "python",
   "nbconvert_exporter": "python",
   "pygments_lexer": "ipython3",
   "version": "3.6.9"
  }
 },
 "nbformat": 4,
 "nbformat_minor": 2
}
